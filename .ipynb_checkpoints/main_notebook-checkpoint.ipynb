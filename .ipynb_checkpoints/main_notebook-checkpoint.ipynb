{
 "cells": [
  {
   "cell_type": "markdown",
   "metadata": {},
   "source": [
    "### Use this notebook for your 3 choices of APIs"
   ]
  },
  {
   "cell_type": "markdown",
   "metadata": {},
   "source": [
    "#### Basic Imports"
   ]
  },
  {
   "cell_type": "code",
   "execution_count": 160,
   "metadata": {
    "ExecuteTime": {
     "end_time": "2022-10-11T12:32:07.191563Z",
     "start_time": "2022-10-11T12:32:07.176550Z"
    }
   },
   "outputs": [],
   "source": [
    "import warnings\n",
    "import requests\n",
    "import json\n",
    "import pandas as pd\n",
    "from bs4 import BeautifulSoup\n",
    "from pandas.io.json import json_normalize\n",
    "\n",
    "warnings.filterwarnings(\"ignore\")"
   ]
  },
  {
   "cell_type": "markdown",
   "metadata": {},
   "source": [
    "### Fake bank account details"
   ]
  },
  {
   "cell_type": "markdown",
   "metadata": {},
   "source": [
    "This simples API provides standardized bank data, this could be usefull for an sample auto fill function component."
   ]
  },
  {
   "cell_type": "code",
   "execution_count": 174,
   "metadata": {
    "ExecuteTime": {
     "end_time": "2022-10-11T13:51:54.650523Z",
     "start_time": "2022-10-11T13:51:54.421786Z"
    }
   },
   "outputs": [
    {
     "name": "stdout",
     "output_type": "stream",
     "text": [
      "rdmuser: 200\n"
     ]
    }
   ],
   "source": [
    "accounts = requests.get(\"https://api.generadordni.es/v2/bank/account?results=50\")\n",
    "print(\"rdmuser:\", accounts.status_code)"
   ]
  },
  {
   "cell_type": "code",
   "execution_count": 175,
   "metadata": {
    "ExecuteTime": {
     "end_time": "2022-10-11T13:51:55.589945Z",
     "start_time": "2022-10-11T13:51:55.580937Z"
    }
   },
   "outputs": [],
   "source": [
    "bank_df = pd.DataFrame(accounts.json())"
   ]
  },
  {
   "cell_type": "code",
   "execution_count": 176,
   "metadata": {
    "ExecuteTime": {
     "end_time": "2022-10-11T13:52:05.912560Z",
     "start_time": "2022-10-11T13:52:05.904195Z"
    }
   },
   "outputs": [
    {
     "data": {
      "text/html": [
       "<div>\n",
       "<style scoped>\n",
       "    .dataframe tbody tr th:only-of-type {\n",
       "        vertical-align: middle;\n",
       "    }\n",
       "\n",
       "    .dataframe tbody tr th {\n",
       "        vertical-align: top;\n",
       "    }\n",
       "\n",
       "    .dataframe thead th {\n",
       "        text-align: right;\n",
       "    }\n",
       "</style>\n",
       "<table border=\"1\" class=\"dataframe\">\n",
       "  <thead>\n",
       "    <tr style=\"text-align: right;\">\n",
       "      <th></th>\n",
       "      <th>ccc</th>\n",
       "      <th>ccc_formatted</th>\n",
       "      <th>iban</th>\n",
       "      <th>iban_formatted</th>\n",
       "      <th>bic</th>\n",
       "      <th>entity</th>\n",
       "    </tr>\n",
       "  </thead>\n",
       "  <tbody>\n",
       "    <tr>\n",
       "      <th>0</th>\n",
       "      <td>20808630570966369906</td>\n",
       "      <td>2080-8630-57-0966369906</td>\n",
       "      <td>ES6020808630570966369906</td>\n",
       "      <td>ES60 2080 8630 5709 6636 9906</td>\n",
       "      <td>CAGLESBB211</td>\n",
       "      <td>Abanca</td>\n",
       "    </tr>\n",
       "    <tr>\n",
       "      <th>1</th>\n",
       "      <td>20855404316426184789</td>\n",
       "      <td>2085-5404-31-6426184789</td>\n",
       "      <td>ES8420855404316426184789</td>\n",
       "      <td>ES84 2085 5404 3164 2618 4789</td>\n",
       "      <td>CAZRES2B448</td>\n",
       "      <td>Ibercaja</td>\n",
       "    </tr>\n",
       "    <tr>\n",
       "      <th>2</th>\n",
       "      <td>20804577555478818368</td>\n",
       "      <td>2080-4577-55-5478818368</td>\n",
       "      <td>ES2220804577555478818368</td>\n",
       "      <td>ES22 2080 4577 5554 7881 8368</td>\n",
       "      <td>CAGLES2B752</td>\n",
       "      <td>Abanca</td>\n",
       "    </tr>\n",
       "    <tr>\n",
       "      <th>3</th>\n",
       "      <td>00814069761553717115</td>\n",
       "      <td>0081-4069-76-1553717115</td>\n",
       "      <td>ES1300814069761553717115</td>\n",
       "      <td>ES13 0081 4069 7615 5371 7115</td>\n",
       "      <td>BSABESBB264</td>\n",
       "      <td>Banc Sabadell</td>\n",
       "    </tr>\n",
       "    <tr>\n",
       "      <th>4</th>\n",
       "      <td>20389583354746297439</td>\n",
       "      <td>2038-9583-35-4746297439</td>\n",
       "      <td>ES8520389583354746297439</td>\n",
       "      <td>ES85 2038 9583 3547 4629 7439</td>\n",
       "      <td>CAHMES2B745</td>\n",
       "      <td>Bankia</td>\n",
       "    </tr>\n",
       "  </tbody>\n",
       "</table>\n",
       "</div>"
      ],
      "text/plain": [
       "                    ccc            ccc_formatted                      iban  \\\n",
       "0  20808630570966369906  2080-8630-57-0966369906  ES6020808630570966369906   \n",
       "1  20855404316426184789  2085-5404-31-6426184789  ES8420855404316426184789   \n",
       "2  20804577555478818368  2080-4577-55-5478818368  ES2220804577555478818368   \n",
       "3  00814069761553717115  0081-4069-76-1553717115  ES1300814069761553717115   \n",
       "4  20389583354746297439  2038-9583-35-4746297439  ES8520389583354746297439   \n",
       "\n",
       "                  iban_formatted          bic         entity  \n",
       "0  ES60 2080 8630 5709 6636 9906  CAGLESBB211         Abanca  \n",
       "1  ES84 2085 5404 3164 2618 4789  CAZRES2B448       Ibercaja  \n",
       "2  ES22 2080 4577 5554 7881 8368  CAGLES2B752         Abanca  \n",
       "3  ES13 0081 4069 7615 5371 7115  BSABESBB264  Banc Sabadell  \n",
       "4  ES85 2038 9583 3547 4629 7439  CAHMES2B745         Bankia  "
      ]
     },
     "execution_count": 176,
     "metadata": {},
     "output_type": "execute_result"
    }
   ],
   "source": [
    "bank_df.head()"
   ]
  },
  {
   "cell_type": "markdown",
   "metadata": {},
   "source": [
    "### Test data - Sample store"
   ]
  },
  {
   "cell_type": "markdown",
   "metadata": {},
   "source": [
    "This API provides us with fake sample data of a web online store. One of the possibilities for a project with this API would be to provide on demand custom databases in mySQL using this datasets as tables for educational purposes."
   ]
  },
  {
   "cell_type": "code",
   "execution_count": 129,
   "metadata": {
    "ExecuteTime": {
     "end_time": "2022-10-11T12:19:57.722919Z",
     "start_time": "2022-10-11T12:19:56.450135Z"
    }
   },
   "outputs": [
    {
     "name": "stdout",
     "output_type": "stream",
     "text": [
      "products 200\n",
      "carts 200\n",
      "users 200\n"
     ]
    }
   ],
   "source": [
    "list_categories = ['products', 'carts', 'users']\n",
    "mock_store = []\n",
    "\n",
    "j = 0\n",
    "for i in list_categories:\n",
    "    mock_store.append(requests.get('https://fakestoreapi.com/'+i))\n",
    "    print(i, mock_store[j].status_code)\n",
    "    j += 1"
   ]
  },
  {
   "cell_type": "code",
   "execution_count": 130,
   "metadata": {
    "ExecuteTime": {
     "end_time": "2022-10-11T12:19:58.674157Z",
     "start_time": "2022-10-11T12:19:58.648133Z"
    }
   },
   "outputs": [
    {
     "data": {
      "text/html": [
       "<div>\n",
       "<style scoped>\n",
       "    .dataframe tbody tr th:only-of-type {\n",
       "        vertical-align: middle;\n",
       "    }\n",
       "\n",
       "    .dataframe tbody tr th {\n",
       "        vertical-align: top;\n",
       "    }\n",
       "\n",
       "    .dataframe thead th {\n",
       "        text-align: right;\n",
       "    }\n",
       "</style>\n",
       "<table border=\"1\" class=\"dataframe\">\n",
       "  <thead>\n",
       "    <tr style=\"text-align: right;\">\n",
       "      <th></th>\n",
       "      <th>id</th>\n",
       "      <th>title</th>\n",
       "      <th>price</th>\n",
       "      <th>description</th>\n",
       "      <th>category</th>\n",
       "      <th>image</th>\n",
       "      <th>rating.rate</th>\n",
       "      <th>rating.count</th>\n",
       "    </tr>\n",
       "  </thead>\n",
       "  <tbody>\n",
       "    <tr>\n",
       "      <th>0</th>\n",
       "      <td>1</td>\n",
       "      <td>Fjallraven - Foldsack No. 1 Backpack, Fits 15 ...</td>\n",
       "      <td>109.95</td>\n",
       "      <td>Your perfect pack for everyday use and walks i...</td>\n",
       "      <td>men's clothing</td>\n",
       "      <td>https://fakestoreapi.com/img/81fPKd-2AYL._AC_S...</td>\n",
       "      <td>3.9</td>\n",
       "      <td>120</td>\n",
       "    </tr>\n",
       "    <tr>\n",
       "      <th>1</th>\n",
       "      <td>2</td>\n",
       "      <td>Mens Casual Premium Slim Fit T-Shirts</td>\n",
       "      <td>22.30</td>\n",
       "      <td>Slim-fitting style, contrast raglan long sleev...</td>\n",
       "      <td>men's clothing</td>\n",
       "      <td>https://fakestoreapi.com/img/71-3HjGNDUL._AC_S...</td>\n",
       "      <td>4.1</td>\n",
       "      <td>259</td>\n",
       "    </tr>\n",
       "  </tbody>\n",
       "</table>\n",
       "</div>"
      ],
      "text/plain": [
       "   id                                              title   price  \\\n",
       "0   1  Fjallraven - Foldsack No. 1 Backpack, Fits 15 ...  109.95   \n",
       "1   2             Mens Casual Premium Slim Fit T-Shirts    22.30   \n",
       "\n",
       "                                         description        category  \\\n",
       "0  Your perfect pack for everyday use and walks i...  men's clothing   \n",
       "1  Slim-fitting style, contrast raglan long sleev...  men's clothing   \n",
       "\n",
       "                                               image  rating.rate  \\\n",
       "0  https://fakestoreapi.com/img/81fPKd-2AYL._AC_S...          3.9   \n",
       "1  https://fakestoreapi.com/img/71-3HjGNDUL._AC_S...          4.1   \n",
       "\n",
       "   rating.count  \n",
       "0           120  \n",
       "1           259  "
      ]
     },
     "metadata": {},
     "output_type": "display_data"
    },
    {
     "data": {
      "text/html": [
       "<div>\n",
       "<style scoped>\n",
       "    .dataframe tbody tr th:only-of-type {\n",
       "        vertical-align: middle;\n",
       "    }\n",
       "\n",
       "    .dataframe tbody tr th {\n",
       "        vertical-align: top;\n",
       "    }\n",
       "\n",
       "    .dataframe thead th {\n",
       "        text-align: right;\n",
       "    }\n",
       "</style>\n",
       "<table border=\"1\" class=\"dataframe\">\n",
       "  <thead>\n",
       "    <tr style=\"text-align: right;\">\n",
       "      <th></th>\n",
       "      <th>id</th>\n",
       "      <th>userId</th>\n",
       "      <th>date</th>\n",
       "      <th>products</th>\n",
       "      <th>__v</th>\n",
       "    </tr>\n",
       "  </thead>\n",
       "  <tbody>\n",
       "    <tr>\n",
       "      <th>0</th>\n",
       "      <td>1</td>\n",
       "      <td>1</td>\n",
       "      <td>2020-03-02T00:00:02.000Z</td>\n",
       "      <td>[{'productId': 1, 'quantity': 4}, {'productId'...</td>\n",
       "      <td>0</td>\n",
       "    </tr>\n",
       "    <tr>\n",
       "      <th>1</th>\n",
       "      <td>2</td>\n",
       "      <td>1</td>\n",
       "      <td>2020-01-02T00:00:02.000Z</td>\n",
       "      <td>[{'productId': 2, 'quantity': 4}, {'productId'...</td>\n",
       "      <td>0</td>\n",
       "    </tr>\n",
       "  </tbody>\n",
       "</table>\n",
       "</div>"
      ],
      "text/plain": [
       "   id  userId                      date  \\\n",
       "0   1       1  2020-03-02T00:00:02.000Z   \n",
       "1   2       1  2020-01-02T00:00:02.000Z   \n",
       "\n",
       "                                            products  __v  \n",
       "0  [{'productId': 1, 'quantity': 4}, {'productId'...    0  \n",
       "1  [{'productId': 2, 'quantity': 4}, {'productId'...    0  "
      ]
     },
     "metadata": {},
     "output_type": "display_data"
    },
    {
     "data": {
      "text/html": [
       "<div>\n",
       "<style scoped>\n",
       "    .dataframe tbody tr th:only-of-type {\n",
       "        vertical-align: middle;\n",
       "    }\n",
       "\n",
       "    .dataframe tbody tr th {\n",
       "        vertical-align: top;\n",
       "    }\n",
       "\n",
       "    .dataframe thead th {\n",
       "        text-align: right;\n",
       "    }\n",
       "</style>\n",
       "<table border=\"1\" class=\"dataframe\">\n",
       "  <thead>\n",
       "    <tr style=\"text-align: right;\">\n",
       "      <th></th>\n",
       "      <th>id</th>\n",
       "      <th>email</th>\n",
       "      <th>username</th>\n",
       "      <th>password</th>\n",
       "      <th>phone</th>\n",
       "      <th>__v</th>\n",
       "      <th>address.geolocation.lat</th>\n",
       "      <th>address.geolocation.long</th>\n",
       "      <th>address.city</th>\n",
       "      <th>address.street</th>\n",
       "      <th>address.number</th>\n",
       "      <th>address.zipcode</th>\n",
       "      <th>name.firstname</th>\n",
       "      <th>name.lastname</th>\n",
       "    </tr>\n",
       "  </thead>\n",
       "  <tbody>\n",
       "    <tr>\n",
       "      <th>0</th>\n",
       "      <td>1</td>\n",
       "      <td>john@gmail.com</td>\n",
       "      <td>johnd</td>\n",
       "      <td>m38rmF$</td>\n",
       "      <td>1-570-236-7033</td>\n",
       "      <td>0</td>\n",
       "      <td>-37.3159</td>\n",
       "      <td>81.1496</td>\n",
       "      <td>kilcoole</td>\n",
       "      <td>new road</td>\n",
       "      <td>7682</td>\n",
       "      <td>12926-3874</td>\n",
       "      <td>john</td>\n",
       "      <td>doe</td>\n",
       "    </tr>\n",
       "    <tr>\n",
       "      <th>1</th>\n",
       "      <td>2</td>\n",
       "      <td>morrison@gmail.com</td>\n",
       "      <td>mor_2314</td>\n",
       "      <td>83r5^_</td>\n",
       "      <td>1-570-236-7033</td>\n",
       "      <td>0</td>\n",
       "      <td>-37.3159</td>\n",
       "      <td>81.1496</td>\n",
       "      <td>kilcoole</td>\n",
       "      <td>Lovers Ln</td>\n",
       "      <td>7267</td>\n",
       "      <td>12926-3874</td>\n",
       "      <td>david</td>\n",
       "      <td>morrison</td>\n",
       "    </tr>\n",
       "  </tbody>\n",
       "</table>\n",
       "</div>"
      ],
      "text/plain": [
       "   id               email  username password           phone  __v  \\\n",
       "0   1      john@gmail.com     johnd  m38rmF$  1-570-236-7033    0   \n",
       "1   2  morrison@gmail.com  mor_2314   83r5^_  1-570-236-7033    0   \n",
       "\n",
       "  address.geolocation.lat address.geolocation.long address.city  \\\n",
       "0                -37.3159                  81.1496     kilcoole   \n",
       "1                -37.3159                  81.1496     kilcoole   \n",
       "\n",
       "  address.street  address.number address.zipcode name.firstname name.lastname  \n",
       "0       new road            7682      12926-3874           john           doe  \n",
       "1      Lovers Ln            7267      12926-3874          david      morrison  "
      ]
     },
     "metadata": {},
     "output_type": "display_data"
    }
   ],
   "source": [
    "for i in range(len(list_categories)):\n",
    "    mock_store[i] = pd.json_normalize(mock_store[i].json())\n",
    "    display(mock_store[i].head(2))"
   ]
  },
  {
   "cell_type": "code",
   "execution_count": 131,
   "metadata": {
    "ExecuteTime": {
     "end_time": "2022-10-11T12:20:00.399668Z",
     "start_time": "2022-10-11T12:20:00.326096Z"
    }
   },
   "outputs": [],
   "source": [
    "# Creating a tmp dataframe that will have all the orders/product details\n",
    "tmp_df = pd.DataFrame()\n",
    "\n",
    "# Creating a column for each of the products\n",
    "for i in range(0,len(mock_store[0])):\n",
    "    tmp_df['product_'+str(i+1)] = ''\n",
    "\n",
    "# Creating rows with product quantities \n",
    "for i in mock_store[1]['products']:\n",
    "    dict_tmp = {}\n",
    "    for j in range(len(i)):\n",
    "        dict_tmp['product_'+str(i[j]['productId'])] = i[j]['quantity']\n",
    "    # appending the new row to the temp dataset\n",
    "    tmp_df = tmp_df.append(dict_tmp, ignore_index=True)\n",
    "\n",
    "# Assembling the final dataset with product columns treated\n",
    "mock_store[1] = pd.concat([mock_store[1], tmp_df], axis = 1).drop(columns = 'products')"
   ]
  },
  {
   "cell_type": "code",
   "execution_count": 132,
   "metadata": {
    "ExecuteTime": {
     "end_time": "2022-10-11T12:20:03.050124Z",
     "start_time": "2022-10-11T12:20:03.036112Z"
    }
   },
   "outputs": [
    {
     "data": {
      "text/html": [
       "<div>\n",
       "<style scoped>\n",
       "    .dataframe tbody tr th:only-of-type {\n",
       "        vertical-align: middle;\n",
       "    }\n",
       "\n",
       "    .dataframe tbody tr th {\n",
       "        vertical-align: top;\n",
       "    }\n",
       "\n",
       "    .dataframe thead th {\n",
       "        text-align: right;\n",
       "    }\n",
       "</style>\n",
       "<table border=\"1\" class=\"dataframe\">\n",
       "  <thead>\n",
       "    <tr style=\"text-align: right;\">\n",
       "      <th></th>\n",
       "      <th>id</th>\n",
       "      <th>userId</th>\n",
       "      <th>date</th>\n",
       "      <th>__v</th>\n",
       "      <th>product_1</th>\n",
       "      <th>product_2</th>\n",
       "      <th>product_3</th>\n",
       "      <th>product_4</th>\n",
       "      <th>product_5</th>\n",
       "      <th>product_6</th>\n",
       "      <th>...</th>\n",
       "      <th>product_11</th>\n",
       "      <th>product_12</th>\n",
       "      <th>product_13</th>\n",
       "      <th>product_14</th>\n",
       "      <th>product_15</th>\n",
       "      <th>product_16</th>\n",
       "      <th>product_17</th>\n",
       "      <th>product_18</th>\n",
       "      <th>product_19</th>\n",
       "      <th>product_20</th>\n",
       "    </tr>\n",
       "  </thead>\n",
       "  <tbody>\n",
       "    <tr>\n",
       "      <th>0</th>\n",
       "      <td>1</td>\n",
       "      <td>1</td>\n",
       "      <td>2020-03-02T00:00:02.000Z</td>\n",
       "      <td>0</td>\n",
       "      <td>4</td>\n",
       "      <td>1</td>\n",
       "      <td>6</td>\n",
       "      <td>NaN</td>\n",
       "      <td>NaN</td>\n",
       "      <td>NaN</td>\n",
       "      <td>...</td>\n",
       "      <td>NaN</td>\n",
       "      <td>NaN</td>\n",
       "      <td>NaN</td>\n",
       "      <td>NaN</td>\n",
       "      <td>NaN</td>\n",
       "      <td>NaN</td>\n",
       "      <td>NaN</td>\n",
       "      <td>NaN</td>\n",
       "      <td>NaN</td>\n",
       "      <td>NaN</td>\n",
       "    </tr>\n",
       "    <tr>\n",
       "      <th>1</th>\n",
       "      <td>2</td>\n",
       "      <td>1</td>\n",
       "      <td>2020-01-02T00:00:02.000Z</td>\n",
       "      <td>0</td>\n",
       "      <td>10</td>\n",
       "      <td>4</td>\n",
       "      <td>NaN</td>\n",
       "      <td>NaN</td>\n",
       "      <td>2</td>\n",
       "      <td>NaN</td>\n",
       "      <td>...</td>\n",
       "      <td>NaN</td>\n",
       "      <td>NaN</td>\n",
       "      <td>NaN</td>\n",
       "      <td>NaN</td>\n",
       "      <td>NaN</td>\n",
       "      <td>NaN</td>\n",
       "      <td>NaN</td>\n",
       "      <td>NaN</td>\n",
       "      <td>NaN</td>\n",
       "      <td>NaN</td>\n",
       "    </tr>\n",
       "  </tbody>\n",
       "</table>\n",
       "<p>2 rows × 24 columns</p>\n",
       "</div>"
      ],
      "text/plain": [
       "   id  userId                      date  __v product_1 product_2 product_3  \\\n",
       "0   1       1  2020-03-02T00:00:02.000Z    0         4         1         6   \n",
       "1   2       1  2020-01-02T00:00:02.000Z    0        10         4       NaN   \n",
       "\n",
       "  product_4 product_5 product_6  ... product_11 product_12 product_13  \\\n",
       "0       NaN       NaN       NaN  ...        NaN        NaN        NaN   \n",
       "1       NaN         2       NaN  ...        NaN        NaN        NaN   \n",
       "\n",
       "  product_14 product_15 product_16 product_17 product_18 product_19 product_20  \n",
       "0        NaN        NaN        NaN        NaN        NaN        NaN        NaN  \n",
       "1        NaN        NaN        NaN        NaN        NaN        NaN        NaN  \n",
       "\n",
       "[2 rows x 24 columns]"
      ]
     },
     "execution_count": 132,
     "metadata": {},
     "output_type": "execute_result"
    }
   ],
   "source": [
    "mock_store[1].head(2)"
   ]
  },
  {
   "cell_type": "markdown",
   "metadata": {},
   "source": [
    "### 1inch API"
   ]
  },
  {
   "cell_type": "markdown",
   "metadata": {},
   "source": [
    "1inch API searchs smartchains in all major DeFi ecoystems for the best exchange rates. One really interesting project that could be implemented with it is a daily advisory bot for trading cryptoassets."
   ]
  },
  {
   "cell_type": "code",
   "execution_count": 194,
   "metadata": {
    "ExecuteTime": {
     "end_time": "2022-10-11T15:13:27.613837Z",
     "start_time": "2022-10-11T15:13:26.951755Z"
    }
   },
   "outputs": [
    {
     "name": "stdout",
     "output_type": "stream",
     "text": [
      "tokens: 200\n"
     ]
    }
   ],
   "source": [
    "tokens = requests.get(\"https://api.1inch.io/v4.0/1/tokens\")\n",
    "print(\"tokens:\", tokens.status_code)"
   ]
  },
  {
   "cell_type": "code",
   "execution_count": 196,
   "metadata": {
    "ExecuteTime": {
     "end_time": "2022-10-11T15:13:35.210317Z",
     "start_time": "2022-10-11T15:13:35.198802Z"
    }
   },
   "outputs": [
    {
     "data": {
      "text/html": [
       "<div>\n",
       "<style scoped>\n",
       "    .dataframe tbody tr th:only-of-type {\n",
       "        vertical-align: middle;\n",
       "    }\n",
       "\n",
       "    .dataframe tbody tr th {\n",
       "        vertical-align: top;\n",
       "    }\n",
       "\n",
       "    .dataframe thead th {\n",
       "        text-align: right;\n",
       "    }\n",
       "</style>\n",
       "<table border=\"1\" class=\"dataframe\">\n",
       "  <thead>\n",
       "    <tr style=\"text-align: right;\">\n",
       "      <th></th>\n",
       "      <th>tokens</th>\n",
       "    </tr>\n",
       "  </thead>\n",
       "  <tbody>\n",
       "    <tr>\n",
       "      <th>0x0000000000004946c0e9f43f4dee607b0ef1fa1c</th>\n",
       "      <td>{'symbol': 'CHI', 'name': 'Chi Gastoken by 1in...</td>\n",
       "    </tr>\n",
       "    <tr>\n",
       "      <th>0x000000000000d0151e748d25b766e77efe2a6c83</th>\n",
       "      <td>{'symbol': 'XDEX', 'name': 'XDEFI Governance T...</td>\n",
       "    </tr>\n",
       "    <tr>\n",
       "      <th>0x0000000000085d4780b73119b644ae5ecd22b376</th>\n",
       "      <td>{'symbol': 'TUSD', 'name': 'TrueUSD', 'decimal...</td>\n",
       "    </tr>\n",
       "    <tr>\n",
       "      <th>0x0000000000095413afc295d19edeb1ad7b71c952</th>\n",
       "      <td>{'symbol': 'LON', 'name': 'Tokenlon', 'decimal...</td>\n",
       "    </tr>\n",
       "    <tr>\n",
       "      <th>0x0000000000b3f879cb30fe243b4dfee438691c04</th>\n",
       "      <td>{'symbol': 'GST2', 'name': 'Gastoken.io 2', 'd...</td>\n",
       "    </tr>\n",
       "  </tbody>\n",
       "</table>\n",
       "</div>"
      ],
      "text/plain": [
       "                                                                                       tokens\n",
       "0x0000000000004946c0e9f43f4dee607b0ef1fa1c  {'symbol': 'CHI', 'name': 'Chi Gastoken by 1in...\n",
       "0x000000000000d0151e748d25b766e77efe2a6c83  {'symbol': 'XDEX', 'name': 'XDEFI Governance T...\n",
       "0x0000000000085d4780b73119b644ae5ecd22b376  {'symbol': 'TUSD', 'name': 'TrueUSD', 'decimal...\n",
       "0x0000000000095413afc295d19edeb1ad7b71c952  {'symbol': 'LON', 'name': 'Tokenlon', 'decimal...\n",
       "0x0000000000b3f879cb30fe243b4dfee438691c04  {'symbol': 'GST2', 'name': 'Gastoken.io 2', 'd..."
      ]
     },
     "execution_count": 196,
     "metadata": {},
     "output_type": "execute_result"
    }
   ],
   "source": [
    "df = pd.DataFrame(tokens.json())\n",
    "df.head()"
   ]
  },
  {
   "cell_type": "code",
   "execution_count": 181,
   "metadata": {
    "ExecuteTime": {
     "end_time": "2022-10-11T15:07:07.658134Z",
     "start_time": "2022-10-11T15:07:07.634112Z"
    },
    "scrolled": true
   },
   "outputs": [
    {
     "data": {
      "text/html": [
       "<div>\n",
       "<style scoped>\n",
       "    .dataframe tbody tr th:only-of-type {\n",
       "        vertical-align: middle;\n",
       "    }\n",
       "\n",
       "    .dataframe tbody tr th {\n",
       "        vertical-align: top;\n",
       "    }\n",
       "\n",
       "    .dataframe thead th {\n",
       "        text-align: right;\n",
       "    }\n",
       "</style>\n",
       "<table border=\"1\" class=\"dataframe\">\n",
       "  <thead>\n",
       "    <tr style=\"text-align: right;\">\n",
       "      <th></th>\n",
       "      <th>symbol</th>\n",
       "      <th>name</th>\n",
       "      <th>decimals</th>\n",
       "      <th>address</th>\n",
       "      <th>logoURI</th>\n",
       "      <th>tags</th>\n",
       "      <th>eip2612</th>\n",
       "      <th>isFoT</th>\n",
       "      <th>displayedSymbol</th>\n",
       "      <th>synth</th>\n",
       "      <th>domainVersion</th>\n",
       "    </tr>\n",
       "  </thead>\n",
       "  <tbody>\n",
       "    <tr>\n",
       "      <th>0</th>\n",
       "      <td>CHI</td>\n",
       "      <td>Chi Gastoken by 1inch</td>\n",
       "      <td>0</td>\n",
       "      <td>0x0000000000004946c0e9f43f4dee607b0ef1fa1c</td>\n",
       "      <td>https://tokens.1inch.io/0x0000000000004946c0e9...</td>\n",
       "      <td>[tokens]</td>\n",
       "      <td>NaN</td>\n",
       "      <td>NaN</td>\n",
       "      <td>NaN</td>\n",
       "      <td>NaN</td>\n",
       "      <td>NaN</td>\n",
       "    </tr>\n",
       "    <tr>\n",
       "      <th>1</th>\n",
       "      <td>XDEX</td>\n",
       "      <td>XDEFI Governance Token</td>\n",
       "      <td>18</td>\n",
       "      <td>0x000000000000d0151e748d25b766e77efe2a6c83</td>\n",
       "      <td>https://tokens.1inch.io/0x000000000000d0151e74...</td>\n",
       "      <td>[tokens]</td>\n",
       "      <td>NaN</td>\n",
       "      <td>NaN</td>\n",
       "      <td>NaN</td>\n",
       "      <td>NaN</td>\n",
       "      <td>NaN</td>\n",
       "    </tr>\n",
       "    <tr>\n",
       "      <th>2</th>\n",
       "      <td>TUSD</td>\n",
       "      <td>TrueUSD</td>\n",
       "      <td>18</td>\n",
       "      <td>0x0000000000085d4780b73119b644ae5ecd22b376</td>\n",
       "      <td>https://tokens.1inch.io/0x0000000000085d4780b7...</td>\n",
       "      <td>[tokens, PEG:USD]</td>\n",
       "      <td>NaN</td>\n",
       "      <td>NaN</td>\n",
       "      <td>NaN</td>\n",
       "      <td>NaN</td>\n",
       "      <td>NaN</td>\n",
       "    </tr>\n",
       "    <tr>\n",
       "      <th>3</th>\n",
       "      <td>LON</td>\n",
       "      <td>Tokenlon</td>\n",
       "      <td>18</td>\n",
       "      <td>0x0000000000095413afc295d19edeb1ad7b71c952</td>\n",
       "      <td>https://tokens.1inch.io/0x0000000000095413afc2...</td>\n",
       "      <td>[tokens]</td>\n",
       "      <td>True</td>\n",
       "      <td>NaN</td>\n",
       "      <td>NaN</td>\n",
       "      <td>NaN</td>\n",
       "      <td>NaN</td>\n",
       "    </tr>\n",
       "    <tr>\n",
       "      <th>4</th>\n",
       "      <td>GST2</td>\n",
       "      <td>Gastoken.io 2</td>\n",
       "      <td>2</td>\n",
       "      <td>0x0000000000b3f879cb30fe243b4dfee438691c04</td>\n",
       "      <td>https://tokens.1inch.io/0x0000000000b3f879cb30...</td>\n",
       "      <td>[tokens]</td>\n",
       "      <td>NaN</td>\n",
       "      <td>NaN</td>\n",
       "      <td>NaN</td>\n",
       "      <td>NaN</td>\n",
       "      <td>NaN</td>\n",
       "    </tr>\n",
       "    <tr>\n",
       "      <th>...</th>\n",
       "      <td>...</td>\n",
       "      <td>...</td>\n",
       "      <td>...</td>\n",
       "      <td>...</td>\n",
       "      <td>...</td>\n",
       "      <td>...</td>\n",
       "      <td>...</td>\n",
       "      <td>...</td>\n",
       "      <td>...</td>\n",
       "      <td>...</td>\n",
       "      <td>...</td>\n",
       "    </tr>\n",
       "    <tr>\n",
       "      <th>1020</th>\n",
       "      <td>ORBS</td>\n",
       "      <td>Orbs</td>\n",
       "      <td>18</td>\n",
       "      <td>0xff56cc6b1e6ded347aa0b7676c85ab0b3d08b0fa</td>\n",
       "      <td>https://tokens.1inch.io/0xff56cc6b1e6ded347aa0...</td>\n",
       "      <td>[tokens]</td>\n",
       "      <td>NaN</td>\n",
       "      <td>NaN</td>\n",
       "      <td>NaN</td>\n",
       "      <td>NaN</td>\n",
       "      <td>NaN</td>\n",
       "    </tr>\n",
       "    <tr>\n",
       "      <th>1021</th>\n",
       "      <td>COOK</td>\n",
       "      <td>Cook Token</td>\n",
       "      <td>18</td>\n",
       "      <td>0xff75ced57419bcaebe5f05254983b013b0646ef5</td>\n",
       "      <td>https://tokens.1inch.io/0xff75ced57419bcaebe5f...</td>\n",
       "      <td>[tokens]</td>\n",
       "      <td>NaN</td>\n",
       "      <td>NaN</td>\n",
       "      <td>NaN</td>\n",
       "      <td>NaN</td>\n",
       "      <td>NaN</td>\n",
       "    </tr>\n",
       "    <tr>\n",
       "      <th>1022</th>\n",
       "      <td>aAAVE</td>\n",
       "      <td>Aave interest bearing AAVE</td>\n",
       "      <td>18</td>\n",
       "      <td>0xffc97d72e13e01096502cb8eb52dee56f74dad7b</td>\n",
       "      <td>https://tokens.1inch.io/0xffc97d72e13e01096502...</td>\n",
       "      <td>[tokens]</td>\n",
       "      <td>True</td>\n",
       "      <td>NaN</td>\n",
       "      <td>NaN</td>\n",
       "      <td>NaN</td>\n",
       "      <td>NaN</td>\n",
       "    </tr>\n",
       "    <tr>\n",
       "      <th>1023</th>\n",
       "      <td>COMBO</td>\n",
       "      <td>Furucombo</td>\n",
       "      <td>18</td>\n",
       "      <td>0xffffffff2ba8f66d4e51811c5190992176930278</td>\n",
       "      <td>https://tokens.1inch.io/0xffffffff2ba8f66d4e51...</td>\n",
       "      <td>[tokens]</td>\n",
       "      <td>NaN</td>\n",
       "      <td>NaN</td>\n",
       "      <td>NaN</td>\n",
       "      <td>NaN</td>\n",
       "      <td>NaN</td>\n",
       "    </tr>\n",
       "    <tr>\n",
       "      <th>1024</th>\n",
       "      <td>FSW</td>\n",
       "      <td>FalconSwap Token</td>\n",
       "      <td>18</td>\n",
       "      <td>0xfffffffff15abf397da76f1dcc1a1604f45126db</td>\n",
       "      <td>https://tokens.1inch.io/0xfffffffff15abf397da7...</td>\n",
       "      <td>[tokens]</td>\n",
       "      <td>NaN</td>\n",
       "      <td>NaN</td>\n",
       "      <td>NaN</td>\n",
       "      <td>NaN</td>\n",
       "      <td>NaN</td>\n",
       "    </tr>\n",
       "  </tbody>\n",
       "</table>\n",
       "<p>1025 rows × 11 columns</p>\n",
       "</div>"
      ],
      "text/plain": [
       "     symbol                        name  decimals  \\\n",
       "0       CHI       Chi Gastoken by 1inch         0   \n",
       "1      XDEX      XDEFI Governance Token        18   \n",
       "2      TUSD                     TrueUSD        18   \n",
       "3       LON                    Tokenlon        18   \n",
       "4      GST2               Gastoken.io 2         2   \n",
       "...     ...                         ...       ...   \n",
       "1020   ORBS                        Orbs        18   \n",
       "1021   COOK                  Cook Token        18   \n",
       "1022  aAAVE  Aave interest bearing AAVE        18   \n",
       "1023  COMBO                   Furucombo        18   \n",
       "1024    FSW            FalconSwap Token        18   \n",
       "\n",
       "                                         address  \\\n",
       "0     0x0000000000004946c0e9f43f4dee607b0ef1fa1c   \n",
       "1     0x000000000000d0151e748d25b766e77efe2a6c83   \n",
       "2     0x0000000000085d4780b73119b644ae5ecd22b376   \n",
       "3     0x0000000000095413afc295d19edeb1ad7b71c952   \n",
       "4     0x0000000000b3f879cb30fe243b4dfee438691c04   \n",
       "...                                          ...   \n",
       "1020  0xff56cc6b1e6ded347aa0b7676c85ab0b3d08b0fa   \n",
       "1021  0xff75ced57419bcaebe5f05254983b013b0646ef5   \n",
       "1022  0xffc97d72e13e01096502cb8eb52dee56f74dad7b   \n",
       "1023  0xffffffff2ba8f66d4e51811c5190992176930278   \n",
       "1024  0xfffffffff15abf397da76f1dcc1a1604f45126db   \n",
       "\n",
       "                                                logoURI               tags  \\\n",
       "0     https://tokens.1inch.io/0x0000000000004946c0e9...           [tokens]   \n",
       "1     https://tokens.1inch.io/0x000000000000d0151e74...           [tokens]   \n",
       "2     https://tokens.1inch.io/0x0000000000085d4780b7...  [tokens, PEG:USD]   \n",
       "3     https://tokens.1inch.io/0x0000000000095413afc2...           [tokens]   \n",
       "4     https://tokens.1inch.io/0x0000000000b3f879cb30...           [tokens]   \n",
       "...                                                 ...                ...   \n",
       "1020  https://tokens.1inch.io/0xff56cc6b1e6ded347aa0...           [tokens]   \n",
       "1021  https://tokens.1inch.io/0xff75ced57419bcaebe5f...           [tokens]   \n",
       "1022  https://tokens.1inch.io/0xffc97d72e13e01096502...           [tokens]   \n",
       "1023  https://tokens.1inch.io/0xffffffff2ba8f66d4e51...           [tokens]   \n",
       "1024  https://tokens.1inch.io/0xfffffffff15abf397da7...           [tokens]   \n",
       "\n",
       "     eip2612 isFoT displayedSymbol synth domainVersion  \n",
       "0        NaN   NaN             NaN   NaN           NaN  \n",
       "1        NaN   NaN             NaN   NaN           NaN  \n",
       "2        NaN   NaN             NaN   NaN           NaN  \n",
       "3       True   NaN             NaN   NaN           NaN  \n",
       "4        NaN   NaN             NaN   NaN           NaN  \n",
       "...      ...   ...             ...   ...           ...  \n",
       "1020     NaN   NaN             NaN   NaN           NaN  \n",
       "1021     NaN   NaN             NaN   NaN           NaN  \n",
       "1022    True   NaN             NaN   NaN           NaN  \n",
       "1023     NaN   NaN             NaN   NaN           NaN  \n",
       "1024     NaN   NaN             NaN   NaN           NaN  \n",
       "\n",
       "[1025 rows x 11 columns]"
      ]
     },
     "execution_count": 181,
     "metadata": {},
     "output_type": "execute_result"
    }
   ],
   "source": [
    "flattened_data = json_normalize(df['tokens'])\n",
    "flattened_data"
   ]
  },
  {
   "cell_type": "markdown",
   "metadata": {},
   "source": [
    "### rijksmuseum API"
   ]
  },
  {
   "cell_type": "markdown",
   "metadata": {},
   "source": [
    "rijksmuseum API is fantastic and provides all sorts of data like the distribuition of colors through a 32 color normalized palete that we can use to study the color tendencies of art through time.\n",
    "Also agregated materials datasets, the possibiliteies are nearly endless!"
   ]
  },
  {
   "cell_type": "code",
   "execution_count": null,
   "metadata": {},
   "outputs": [],
   "source": [
    "import requests\n",
    "import pandas as pd\n",
    "import json\n",
    "\n",
    "# requesting the data\n",
    "response = requests.get('https://www.rijksmuseum.nl/api/nl/collection?key=XRyrJ2PZ')\n",
    "\n",
    "# Creating a objects dataframe.\n",
    "# All tables are lists inside lists so we have to unpack them all one by one\n",
    "df = pd.json_normalize(json.loads(response.text))\n",
    "df2 = pd.json_normalize(df['artObjects'])\n",
    "df3['objects'] = df2.T\n",
    "objects_df = pd.json_normalize(df3['objects'])\n",
    "display(objects_df.head())\n",
    "\n",
    "# creating a dataframe with all defferent facets\n",
    "df2 = pd.json_normalize(df['facets'])\n",
    "df3['facets'] = df2.T\n",
    "facets_df = pd.json_normalize(df3['facets']).T\n",
    "facets_df.head(5)\n",
    "\n",
    "# Second Iteration - Splicing each facet into his own data set\n",
    "df_principalMaker = pd.json_normalize(facets_df[0]['facets'])\n",
    "df_type = pd.json_normalize(facets_df[1]['facets'])\n",
    "df_dating_period = pd.json_normalize(facets_df[2]['facets'])\n",
    "df_place =pd.json_normalize(facets_df[3]['facets'])\n",
    "df_material = pd.json_normalize(facets_df[4]['facets'])\n",
    "df_technique = pd.json_normalize(facets_df[5]['facets'])\n",
    "df_normalized32Colors = pd.json_normalize(facets_df[6]['facets'])"
   ]
  },
  {
   "cell_type": "code",
   "execution_count": null,
   "metadata": {},
   "outputs": [],
   "source": []
  },
  {
   "cell_type": "code",
   "execution_count": null,
   "metadata": {},
   "outputs": [],
   "source": []
  }
 ],
 "metadata": {
  "kernelspec": {
   "display_name": "Python 3 (ipykernel)",
   "language": "python",
   "name": "python3"
  },
  "language_info": {
   "codemirror_mode": {
    "name": "ipython",
    "version": 3
   },
   "file_extension": ".py",
   "mimetype": "text/x-python",
   "name": "python",
   "nbconvert_exporter": "python",
   "pygments_lexer": "ipython3",
   "version": "3.9.12"
  },
  "toc": {
   "base_numbering": 1,
   "nav_menu": {},
   "number_sections": true,
   "sideBar": true,
   "skip_h1_title": false,
   "title_cell": "Table of Contents",
   "title_sidebar": "Contents",
   "toc_cell": false,
   "toc_position": {},
   "toc_section_display": true,
   "toc_window_display": false
  }
 },
 "nbformat": 4,
 "nbformat_minor": 4
}
